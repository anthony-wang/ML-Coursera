{
 "cells": [
  {
   "cell_type": "code",
   "execution_count": 1,
   "metadata": {},
   "outputs": [],
   "source": [
    "using CSV, StatPlots, Plots; pyplot();\n",
    "data = CSV.read(\"/Users/kevinliu/Documents/machine-learning-ex2/ex2/ex2data1.txt\", datarow=1);"
   ]
  },
  {
   "cell_type": "code",
   "execution_count": 2,
   "metadata": {},
   "outputs": [
    {
     "data": {
      "text/plain": [
       "100×3 Array{Union{Float64, Missings.Missing},2}:\n",
       " 1.0  34.6237  78.0247\n",
       " 1.0  30.2867  43.895 \n",
       " 1.0  35.8474  72.9022\n",
       " 1.0  60.1826  86.3086\n",
       " 1.0  79.0327  75.3444\n",
       " 1.0  45.0833  56.3164\n",
       " 1.0  61.1067  96.5114\n",
       " 1.0  75.0247  46.554 \n",
       " 1.0  76.0988  87.4206\n",
       " 1.0  84.4328  43.5334\n",
       " 1.0  95.8616  38.2253\n",
       " 1.0  75.0137  30.6033\n",
       " 1.0  82.3071  76.482 \n",
       " ⋮                    \n",
       " 1.0  78.6354  96.6474\n",
       " 1.0  52.348   60.7695\n",
       " 1.0  94.0943  77.1591\n",
       " 1.0  90.4486  87.5088\n",
       " 1.0  55.4822  35.5707\n",
       " 1.0  74.4927  84.8451\n",
       " 1.0  89.8458  45.3583\n",
       " 1.0  83.4892  48.3803\n",
       " 1.0  42.2617  87.1039\n",
       " 1.0  99.315   68.7754\n",
       " 1.0  55.34    64.9319\n",
       " 1.0  74.7759  89.5298"
      ]
     },
     "execution_count": 2,
     "metadata": {},
     "output_type": "execute_result"
    }
   ],
   "source": [
    "X = hcat(ones(100,1), Matrix(data[:, [1,2]]))"
   ]
  },
  {
   "cell_type": "code",
   "execution_count": 3,
   "metadata": {},
   "outputs": [
    {
     "data": {
      "text/plain": [
       "100-element Array{Union{Int64, Missings.Missing},1}:\n",
       " 0\n",
       " 0\n",
       " 0\n",
       " 1\n",
       " 1\n",
       " 0\n",
       " 1\n",
       " 1\n",
       " 1\n",
       " 1\n",
       " 0\n",
       " 0\n",
       " 1\n",
       " ⋮\n",
       " 1\n",
       " 0\n",
       " 1\n",
       " 1\n",
       " 0\n",
       " 1\n",
       " 1\n",
       " 1\n",
       " 1\n",
       " 1\n",
       " 1\n",
       " 1"
      ]
     },
     "execution_count": 3,
     "metadata": {},
     "output_type": "execute_result"
    }
   ],
   "source": [
    "y = Vector(data[:, 3])"
   ]
  },
  {
   "cell_type": "code",
   "execution_count": 4,
   "metadata": {},
   "outputs": [
    {
     "data": {
      "text/plain": [
       "mapfeature (generic function with 1 method)"
      ]
     },
     "execution_count": 4,
     "metadata": {},
     "output_type": "execute_result"
    }
   ],
   "source": [
    "function mapfeature(x1, x2)\n",
    "    degree = 6 # why 6?\n",
    "    out = ones(size(x1[:,1]))\n",
    "    for i = 1:degree\n",
    "        for j = 0:i\n",
    "            out[:, end + 1] = [x1 .^ [i - j]] .* [x2 .^ j]\n",
    "        end\n",
    "    end\n",
    "end"
   ]
  },
  {
   "cell_type": "code",
   "execution_count": 5,
   "metadata": {},
   "outputs": [
    {
     "data": {
      "text/plain": [
       "plotdboundary (generic function with 1 method)"
      ]
     },
     "execution_count": 5,
     "metadata": {},
     "output_type": "execute_result"
    }
   ],
   "source": [
    "function plotdboundary(θ, X, y)\n",
    "    if size(X, 2) <= 3\n",
    "        # two endpoints\n",
    "        plot_xaxis = [minimum(X[:,2])-2,  maximum(X[:,2])+2]\n",
    "        # compute decision boundary line\n",
    "        plot_yaxis = (-1 ./ θ[3]) .* (θ[2] .* plot_xaxis + θ[1])\n",
    "        plot(plot_xaxis, plot_yaxis, label=\"decision boundary\")\n",
    "    else\n",
    "        # grid range\n",
    "        u = linspace(-1, 1.5, 50)\n",
    "        v = linspace(-1, 1.5, 50)\n",
    "        z = zeros(length(u), length(v));\n",
    "        # Evaluate z = θ * x over the grid\n",
    "        for i = 1:length(u)\n",
    "            for j = 1:length(v)\n",
    "                z[i,j] = mapfeature(u[i], v[j]) * θ\n",
    "            end\n",
    "        end\n",
    "        # transpose z before calling contour\n",
    "        z = z'\n",
    "        # Plot z = 0, specify the range [0, 0]\n",
    "        # Contour should maximize inter-class distance\n",
    "        contour(u, v, z, [0, 0], lineWidth=2)\n",
    "    end\n",
    "end"
   ]
  },
  {
   "cell_type": "code",
   "execution_count": 6,
   "metadata": {},
   "outputs": [
    {
     "data": {
      "image/png": "[encoded data removed]"
     },
     "execution_count": 6,
     "metadata": {},
     "output_type": "execute_result"
    }
   ],
   "source": [
    "plotdboundary([0.203,0.203,0.203], X, y)"
   ]
  },
  {
   "cell_type": "code",
   "execution_count": 7,
   "metadata": {},
   "outputs": [],
   "source": [
    "u = linspace(-1, 1.5, 50)\n",
    "v = linspace(-1, 1.5, 50)\n",
    "z = zeros(50, 50);"
   ]
  },
  {
   "cell_type": "code",
   "execution_count": 8,
   "metadata": {},
   "outputs": [
    {
     "ename": "LoadError",
     "evalue": "\u001b[91mMethodError: no method matching getindex(::Float64, ::Colon, ::Int64)\u001b[39m",
     "output_type": "error",
     "traceback": [
      "\u001b[91mMethodError: no method matching getindex(::Float64, ::Colon, ::Int64)\u001b[39m",
      "",
      "Stacktrace:",
      " [1] \u001b[1mmapfeature\u001b[22m\u001b[22m\u001b[1m(\u001b[22m\u001b[22m::Float64, ::Float64\u001b[1m)\u001b[22m\u001b[22m at \u001b[1m./In[4]:3\u001b[22m\u001b[22m"
     ]
    }
   ],
   "source": [
    "z[1,1] = mapfeature(u[1], v[1]) * [0.203,0.203,0.203]"
   ]
  },
  {
   "cell_type": "code",
   "execution_count": null,
   "metadata": {},
   "outputs": [],
   "source": []
  }
 ],
 "metadata": {
  "kernelspec": {
   "display_name": "Julia 0.6.2",
   "language": "julia",
   "name": "julia-0.6"
  },
  "language_info": {
   "file_extension": ".jl",
   "mimetype": "application/julia",
   "name": "julia",
   "version": "0.6.2"
  }
 },
 "nbformat": 4,
 "nbformat_minor": 2
}
